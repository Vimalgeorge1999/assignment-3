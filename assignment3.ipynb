{
 "cells": [
  {
   "cell_type": "code",
   "execution_count": 26,
   "id": "912c4ac1",
   "metadata": {},
   "outputs": [
    {
     "name": "stdout",
     "output_type": "stream",
     "text": [
      "enter a tuple123456789\n",
      "number is odd\n",
      "number is even\n",
      "number is odd\n",
      "number is even\n",
      "number is odd\n",
      "number is even\n",
      "number is odd\n",
      "number is even\n",
      "number is odd\n"
     ]
    }
   ],
   "source": [
    "x=input(\"enter a tuple\")\n",
    "even_count=0\n",
    "odd_count=0\n",
    "for i in range(1,10): \n",
    "    if i %2==0: \n",
    "        even_count=even_count+1\n",
    "        print(\"number is even\")\n",
    "    else:\n",
    "        odd_count=odd_count+1\n",
    "        print(\"number is odd\")\n",
    "            "
   ]
  },
  {
   "cell_type": "code",
   "execution_count": null,
   "id": "7bb30eeb",
   "metadata": {},
   "outputs": [],
   "source": []
  },
  {
   "cell_type": "code",
   "execution_count": null,
   "id": "c5041a44",
   "metadata": {},
   "outputs": [],
   "source": []
  },
  {
   "cell_type": "code",
   "execution_count": null,
   "id": "f5cc9ec1",
   "metadata": {},
   "outputs": [],
   "source": []
  }
 ],
 "metadata": {
  "kernelspec": {
   "display_name": "Python 3 (ipykernel)",
   "language": "python",
   "name": "python3"
  },
  "language_info": {
   "codemirror_mode": {
    "name": "ipython",
    "version": 3
   },
   "file_extension": ".py",
   "mimetype": "text/x-python",
   "name": "python",
   "nbconvert_exporter": "python",
   "pygments_lexer": "ipython3",
   "version": "3.11.0"
  }
 },
 "nbformat": 4,
 "nbformat_minor": 5
}
